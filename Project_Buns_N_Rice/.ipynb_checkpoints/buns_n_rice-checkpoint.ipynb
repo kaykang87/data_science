{
 "cells": [
  {
   "cell_type": "code",
   "execution_count": 1,
   "metadata": {},
   "outputs": [
    {
     "name": "stdout",
     "output_type": "stream",
     "text": [
      "e:\\OneDrive\\Programming\\Dataquest\n"
     ]
    }
   ],
   "source": [
    "# Change directory to VSCode workspace root so that relative path loads work correctly. Turn this addition off with the DataScience.changeDirOnImportExport setting\n",
    "# ms-python.python added\n",
    "import os\n",
    "try:\n",
    "\tos.chdir(os.path.join(os.getcwd(), '..\\\\..'))\n",
    "\tprint(os.getcwd())\n",
    "except:\n",
    "\tpass\n"
   ]
  },
  {
   "cell_type": "code",
   "execution_count": 2,
   "metadata": {},
   "outputs": [],
   "source": [
    "import pandas as pd\n",
    "import numpy as np\n",
    "import matplotlib.pyplot as plt\n",
    "import seaborn as sns\n"
   ]
  },
  {
   "cell_type": "code",
   "execution_count": 3,
   "metadata": {},
   "outputs": [
    {
     "data": {
      "text/html": [
       "<div>\n",
       "<style scoped>\n",
       "    .dataframe tbody tr th:only-of-type {\n",
       "        vertical-align: middle;\n",
       "    }\n",
       "\n",
       "    .dataframe tbody tr th {\n",
       "        vertical-align: top;\n",
       "    }\n",
       "\n",
       "    .dataframe thead th {\n",
       "        text-align: right;\n",
       "    }\n",
       "</style>\n",
       "<table border=\"1\" class=\"dataframe\">\n",
       "  <thead>\n",
       "    <tr style=\"text-align: right;\">\n",
       "      <th></th>\n",
       "      <th>i_ticket_id</th>\n",
       "      <th>s_table_name</th>\n",
       "      <th>s_item</th>\n",
       "      <th>c_ticketitem_net_price</th>\n",
       "      <th>c_ticketitem_gross_price</th>\n",
       "      <th>c_ticketitem_difference</th>\n",
       "      <th>c_ticketitem_manual_discounts</th>\n",
       "      <th>c_ticketitem_auto_discounts</th>\n",
       "      <th>dt_when</th>\n",
       "      <th>ItemGroup</th>\n",
       "      <th>...</th>\n",
       "      <th>s_job_name</th>\n",
       "      <th>revcent_name</th>\n",
       "      <th>create_hour</th>\n",
       "      <th>create_hour_ordinal</th>\n",
       "      <th>create_day</th>\n",
       "      <th>create_day_ordinal</th>\n",
       "      <th>create_month</th>\n",
       "      <th>create_month_ordinal</th>\n",
       "      <th>i_cover_id</th>\n",
       "      <th>s_area_name</th>\n",
       "    </tr>\n",
       "  </thead>\n",
       "  <tbody>\n",
       "    <tr>\n",
       "      <th>0</th>\n",
       "      <td>68230</td>\n",
       "      <td>Danny #1</td>\n",
       "      <td>Classic Egg Sandwich</td>\n",
       "      <td>5.49</td>\n",
       "      <td>5.49</td>\n",
       "      <td>0.0</td>\n",
       "      <td>0.0</td>\n",
       "      <td>0.0</td>\n",
       "      <td>11/29/2018 6:37:28 AM</td>\n",
       "      <td>Breakfast Sandwiches</td>\n",
       "      <td>...</td>\n",
       "      <td>Manager</td>\n",
       "      <td>Unassigned Revenue</td>\n",
       "      <td>6:00</td>\n",
       "      <td>6</td>\n",
       "      <td>Thursday</td>\n",
       "      <td>5</td>\n",
       "      <td>November</td>\n",
       "      <td>11</td>\n",
       "      <td>12604</td>\n",
       "      <td>NaN</td>\n",
       "    </tr>\n",
       "    <tr>\n",
       "      <th>1</th>\n",
       "      <td>68230</td>\n",
       "      <td>Danny #1</td>\n",
       "      <td>Coffee Lg</td>\n",
       "      <td>1.89</td>\n",
       "      <td>1.89</td>\n",
       "      <td>0.0</td>\n",
       "      <td>0.0</td>\n",
       "      <td>0.0</td>\n",
       "      <td>11/29/2018 6:37:28 AM</td>\n",
       "      <td>Beverages</td>\n",
       "      <td>...</td>\n",
       "      <td>Manager</td>\n",
       "      <td>Unassigned Revenue</td>\n",
       "      <td>6:00</td>\n",
       "      <td>6</td>\n",
       "      <td>Thursday</td>\n",
       "      <td>5</td>\n",
       "      <td>November</td>\n",
       "      <td>11</td>\n",
       "      <td>12604</td>\n",
       "      <td>NaN</td>\n",
       "    </tr>\n",
       "    <tr>\n",
       "      <th>2</th>\n",
       "      <td>68231</td>\n",
       "      <td>Danny #2</td>\n",
       "      <td>BLT Sand</td>\n",
       "      <td>8.97</td>\n",
       "      <td>8.97</td>\n",
       "      <td>0.0</td>\n",
       "      <td>0.0</td>\n",
       "      <td>0.0</td>\n",
       "      <td>11/29/2018 6:55:03 AM</td>\n",
       "      <td>Breakfast Sandwiches</td>\n",
       "      <td>...</td>\n",
       "      <td>Manager</td>\n",
       "      <td>Unassigned Revenue</td>\n",
       "      <td>6:00</td>\n",
       "      <td>6</td>\n",
       "      <td>Thursday</td>\n",
       "      <td>5</td>\n",
       "      <td>November</td>\n",
       "      <td>11</td>\n",
       "      <td>12605</td>\n",
       "      <td>NaN</td>\n",
       "    </tr>\n",
       "    <tr>\n",
       "      <th>3</th>\n",
       "      <td>68232</td>\n",
       "      <td>Danny #3</td>\n",
       "      <td>Classic Egg Sandwich</td>\n",
       "      <td>5.49</td>\n",
       "      <td>5.49</td>\n",
       "      <td>0.0</td>\n",
       "      <td>0.0</td>\n",
       "      <td>0.0</td>\n",
       "      <td>11/29/2018 6:55:14 AM</td>\n",
       "      <td>Breakfast Sandwiches</td>\n",
       "      <td>...</td>\n",
       "      <td>Manager</td>\n",
       "      <td>Unassigned Revenue</td>\n",
       "      <td>6:00</td>\n",
       "      <td>6</td>\n",
       "      <td>Thursday</td>\n",
       "      <td>5</td>\n",
       "      <td>November</td>\n",
       "      <td>11</td>\n",
       "      <td>12606</td>\n",
       "      <td>NaN</td>\n",
       "    </tr>\n",
       "    <tr>\n",
       "      <th>4</th>\n",
       "      <td>68232</td>\n",
       "      <td>Danny #3</td>\n",
       "      <td>Classic Egg Sandwich</td>\n",
       "      <td>5.49</td>\n",
       "      <td>5.49</td>\n",
       "      <td>0.0</td>\n",
       "      <td>0.0</td>\n",
       "      <td>0.0</td>\n",
       "      <td>11/29/2018 6:55:31 AM</td>\n",
       "      <td>Breakfast Sandwiches</td>\n",
       "      <td>...</td>\n",
       "      <td>Manager</td>\n",
       "      <td>Unassigned Revenue</td>\n",
       "      <td>6:00</td>\n",
       "      <td>6</td>\n",
       "      <td>Thursday</td>\n",
       "      <td>5</td>\n",
       "      <td>November</td>\n",
       "      <td>11</td>\n",
       "      <td>12606</td>\n",
       "      <td>NaN</td>\n",
       "    </tr>\n",
       "  </tbody>\n",
       "</table>\n",
       "<p>5 rows × 22 columns</p>\n",
       "</div>"
      ],
      "text/plain": [
       "   i_ticket_id s_table_name                s_item  c_ticketitem_net_price  \\\n",
       "0        68230     Danny #1  Classic Egg Sandwich                    5.49   \n",
       "1        68230     Danny #1             Coffee Lg                    1.89   \n",
       "2        68231     Danny #2              BLT Sand                    8.97   \n",
       "3        68232     Danny #3  Classic Egg Sandwich                    5.49   \n",
       "4        68232     Danny #3  Classic Egg Sandwich                    5.49   \n",
       "\n",
       "   c_ticketitem_gross_price  c_ticketitem_difference  \\\n",
       "0                      5.49                      0.0   \n",
       "1                      1.89                      0.0   \n",
       "2                      8.97                      0.0   \n",
       "3                      5.49                      0.0   \n",
       "4                      5.49                      0.0   \n",
       "\n",
       "   c_ticketitem_manual_discounts  c_ticketitem_auto_discounts  \\\n",
       "0                            0.0                          0.0   \n",
       "1                            0.0                          0.0   \n",
       "2                            0.0                          0.0   \n",
       "3                            0.0                          0.0   \n",
       "4                            0.0                          0.0   \n",
       "\n",
       "                 dt_when             ItemGroup  ... s_job_name  \\\n",
       "0  11/29/2018 6:37:28 AM  Breakfast Sandwiches  ...    Manager   \n",
       "1  11/29/2018 6:37:28 AM             Beverages  ...    Manager   \n",
       "2  11/29/2018 6:55:03 AM  Breakfast Sandwiches  ...    Manager   \n",
       "3  11/29/2018 6:55:14 AM  Breakfast Sandwiches  ...    Manager   \n",
       "4  11/29/2018 6:55:31 AM  Breakfast Sandwiches  ...    Manager   \n",
       "\n",
       "         revcent_name create_hour create_hour_ordinal create_day  \\\n",
       "0  Unassigned Revenue        6:00                   6   Thursday   \n",
       "1  Unassigned Revenue        6:00                   6   Thursday   \n",
       "2  Unassigned Revenue        6:00                   6   Thursday   \n",
       "3  Unassigned Revenue        6:00                   6   Thursday   \n",
       "4  Unassigned Revenue        6:00                   6   Thursday   \n",
       "\n",
       "   create_day_ordinal create_month  create_month_ordinal i_cover_id  \\\n",
       "0                   5     November                    11      12604   \n",
       "1                   5     November                    11      12604   \n",
       "2                   5     November                    11      12605   \n",
       "3                   5     November                    11      12606   \n",
       "4                   5     November                    11      12606   \n",
       "\n",
       "   s_area_name  \n",
       "0          NaN  \n",
       "1          NaN  \n",
       "2          NaN  \n",
       "3          NaN  \n",
       "4          NaN  \n",
       "\n",
       "[5 rows x 22 columns]"
      ]
     },
     "execution_count": 3,
     "metadata": {},
     "output_type": "execute_result"
    }
   ],
   "source": [
    "# read in dataframe\n",
    "hourly_sales = pd.read_csv(\n",
    "    \"Projects\\Project_Buns_N_Rice\\Hourly Sales Performance by Revenue Class.csv\"\n",
    ")\n",
    "\n",
    "hourly_sales.head()\n"
   ]
  },
  {
   "cell_type": "code",
   "execution_count": 4,
   "metadata": {},
   "outputs": [],
   "source": [
    "# drop the unneeded columns and make the changes in the dataframe itself by using inplace=True\n",
    "cols = [0, 1, 5, 6, 7, 11, 12, 13, 20, 21]\n",
    "hourly_sales.drop(hourly_sales.columns[cols], axis=\"columns\", inplace=True)\n"
   ]
  },
  {
   "cell_type": "code",
   "execution_count": 5,
   "metadata": {},
   "outputs": [
    {
     "data": {
      "text/plain": [
       "s_item                      0\n",
       "c_ticketitem_net_price      0\n",
       "c_ticketitem_gross_price    0\n",
       "dt_when                     0\n",
       "ItemGroup                   0\n",
       "RevenueClass                0\n",
       "create_hour                 0\n",
       "create_hour_ordinal         0\n",
       "create_day                  0\n",
       "create_day_ordinal          0\n",
       "create_month                0\n",
       "create_month_ordinal        0\n",
       "dtype: int64"
      ]
     },
     "execution_count": 5,
     "metadata": {},
     "output_type": "execute_result"
    }
   ],
   "source": [
    "# check for missing values\n",
    "hourly_sales.isnull().sum()\n"
   ]
  },
  {
   "cell_type": "code",
   "execution_count": 6,
   "metadata": {},
   "outputs": [
    {
     "name": "stdout",
     "output_type": "stream",
     "text": [
      "12    4309\n",
      "9     3237\n",
      "11    3091\n",
      "8     3007\n",
      "10    2867\n",
      "13    2834\n",
      "7     2456\n",
      "14    1601\n",
      "6      983\n",
      "15     692\n",
      "16      20\n",
      "5        3\n",
      "Name: create_hour_ordinal, dtype: int64\n",
      "6      983\n",
      "7     2456\n",
      "8     3007\n",
      "9     3237\n",
      "10    2867\n",
      "11    3091\n",
      "12    4309\n",
      "13    2834\n",
      "14    1601\n",
      "15     692\n",
      "Name: create_hour_ordinal, dtype: int64\n"
     ]
    }
   ],
   "source": [
    "# check the unique value of hours and drop the values that are outside the range of operating hours of the store\n",
    "print(hourly_sales[\"create_hour_ordinal\"].value_counts())\n",
    "hourly_sales_up = hourly_sales[\n",
    "    (hourly_sales[\"create_hour_ordinal\"] != 16)\n",
    "    & (hourly_sales[\"create_hour_ordinal\"] != 5)\n",
    "]\n",
    "print(hourly_sales_up[\"create_hour_ordinal\"].value_counts().sort_index())\n"
   ]
  },
  {
   "cell_type": "code",
   "execution_count": 7,
   "metadata": {},
   "outputs": [],
   "source": [
    "# create a empty dictionary\n",
    "hourly_sales_total = {}\n",
    "# Create a function to add up all the sales based on hour to the dictionary\n",
    "for h in hourly_sales_up[\"create_hour_ordinal\"].unique():\n",
    "    selected_rows = hourly_sales_up[hourly_sales_up[\"create_hour_ordinal\"] == h]\n",
    "    sales_sum = selected_rows[\"c_ticketitem_net_price\"].sum()\n",
    "    hourly_sales_total[h] = sales_sum\n"
   ]
  },
  {
   "cell_type": "code",
   "execution_count": 8,
   "metadata": {},
   "outputs": [
    {
     "data": {
      "image/png": "[encoded data removed]",
      "text/plain": [
       "<Figure size 432x288 with 1 Axes>"
      ]
     },
     "metadata": {
      "needs_background": "light"
     },
     "output_type": "display_data"
    }
   ],
   "source": [
    "# create a bar graph from the dictionary to visualize the busiest hours\n",
    "plt.bar(range(len(hourly_sales_total)), hourly_sales_total.values(), align=\"center\")\n",
    "plt.xticks(range(len(hourly_sales_total)), list(sorted(hourly_sales_total.keys())))\n",
    "plt.xlabel(\"Hours\")\n",
    "plt.ylabel(\"Sales\")\n",
    "plt.show()\n"
   ]
  },
  {
   "cell_type": "code",
   "execution_count": 9,
   "metadata": {},
   "outputs": [
    {
     "data": {
      "text/html": [
       "<div>\n",
       "<style scoped>\n",
       "    .dataframe tbody tr th:only-of-type {\n",
       "        vertical-align: middle;\n",
       "    }\n",
       "\n",
       "    .dataframe tbody tr th {\n",
       "        vertical-align: top;\n",
       "    }\n",
       "\n",
       "    .dataframe thead th {\n",
       "        text-align: right;\n",
       "    }\n",
       "</style>\n",
       "<table border=\"1\" class=\"dataframe\">\n",
       "  <thead>\n",
       "    <tr style=\"text-align: right;\">\n",
       "      <th>create_day</th>\n",
       "      <th>Friday</th>\n",
       "      <th>Monday</th>\n",
       "      <th>Saturday</th>\n",
       "      <th>Thursday</th>\n",
       "      <th>Tuesday</th>\n",
       "      <th>Wednesday</th>\n",
       "    </tr>\n",
       "    <tr>\n",
       "      <th>create_hour_ordinal</th>\n",
       "      <th></th>\n",
       "      <th></th>\n",
       "      <th></th>\n",
       "      <th></th>\n",
       "      <th></th>\n",
       "      <th></th>\n",
       "    </tr>\n",
       "  </thead>\n",
       "  <tbody>\n",
       "    <tr>\n",
       "      <th>6</th>\n",
       "      <td>770.71</td>\n",
       "      <td>556.11</td>\n",
       "      <td>30.94</td>\n",
       "      <td>678.67</td>\n",
       "      <td>544.50</td>\n",
       "      <td>1844.98</td>\n",
       "    </tr>\n",
       "    <tr>\n",
       "      <th>7</th>\n",
       "      <td>1970.06</td>\n",
       "      <td>1122.79</td>\n",
       "      <td>1593.06</td>\n",
       "      <td>1573.95</td>\n",
       "      <td>1378.86</td>\n",
       "      <td>1946.47</td>\n",
       "    </tr>\n",
       "    <tr>\n",
       "      <th>8</th>\n",
       "      <td>2304.17</td>\n",
       "      <td>1208.18</td>\n",
       "      <td>3022.09</td>\n",
       "      <td>2018.20</td>\n",
       "      <td>1864.37</td>\n",
       "      <td>1931.67</td>\n",
       "    </tr>\n",
       "    <tr>\n",
       "      <th>9</th>\n",
       "      <td>3003.47</td>\n",
       "      <td>1614.64</td>\n",
       "      <td>3596.92</td>\n",
       "      <td>2217.21</td>\n",
       "      <td>1919.05</td>\n",
       "      <td>2021.15</td>\n",
       "    </tr>\n",
       "    <tr>\n",
       "      <th>10</th>\n",
       "      <td>1867.76</td>\n",
       "      <td>1288.64</td>\n",
       "      <td>4315.50</td>\n",
       "      <td>1910.36</td>\n",
       "      <td>1578.86</td>\n",
       "      <td>1962.12</td>\n",
       "    </tr>\n",
       "    <tr>\n",
       "      <th>11</th>\n",
       "      <td>2737.11</td>\n",
       "      <td>2202.79</td>\n",
       "      <td>4150.77</td>\n",
       "      <td>2206.70</td>\n",
       "      <td>2358.69</td>\n",
       "      <td>2365.88</td>\n",
       "    </tr>\n",
       "    <tr>\n",
       "      <th>12</th>\n",
       "      <td>4395.05</td>\n",
       "      <td>3310.50</td>\n",
       "      <td>4181.88</td>\n",
       "      <td>3952.95</td>\n",
       "      <td>3674.54</td>\n",
       "      <td>3606.72</td>\n",
       "    </tr>\n",
       "    <tr>\n",
       "      <th>13</th>\n",
       "      <td>2552.02</td>\n",
       "      <td>1983.74</td>\n",
       "      <td>2608.53</td>\n",
       "      <td>2431.37</td>\n",
       "      <td>2754.62</td>\n",
       "      <td>3005.01</td>\n",
       "    </tr>\n",
       "    <tr>\n",
       "      <th>14</th>\n",
       "      <td>1808.19</td>\n",
       "      <td>1445.59</td>\n",
       "      <td>1656.75</td>\n",
       "      <td>1148.08</td>\n",
       "      <td>1136.21</td>\n",
       "      <td>1234.20</td>\n",
       "    </tr>\n",
       "    <tr>\n",
       "      <th>15</th>\n",
       "      <td>768.60</td>\n",
       "      <td>564.38</td>\n",
       "      <td>57.77</td>\n",
       "      <td>670.50</td>\n",
       "      <td>648.61</td>\n",
       "      <td>697.69</td>\n",
       "    </tr>\n",
       "  </tbody>\n",
       "</table>\n",
       "</div>"
      ],
      "text/plain": [
       "create_day            Friday   Monday  Saturday  Thursday  Tuesday  Wednesday\n",
       "create_hour_ordinal                                                          \n",
       "6                     770.71   556.11     30.94    678.67   544.50    1844.98\n",
       "7                    1970.06  1122.79   1593.06   1573.95  1378.86    1946.47\n",
       "8                    2304.17  1208.18   3022.09   2018.20  1864.37    1931.67\n",
       "9                    3003.47  1614.64   3596.92   2217.21  1919.05    2021.15\n",
       "10                   1867.76  1288.64   4315.50   1910.36  1578.86    1962.12\n",
       "11                   2737.11  2202.79   4150.77   2206.70  2358.69    2365.88\n",
       "12                   4395.05  3310.50   4181.88   3952.95  3674.54    3606.72\n",
       "13                   2552.02  1983.74   2608.53   2431.37  2754.62    3005.01\n",
       "14                   1808.19  1445.59   1656.75   1148.08  1136.21    1234.20\n",
       "15                    768.60   564.38     57.77    670.50   648.61     697.69"
      ]
     },
     "execution_count": 9,
     "metadata": {},
     "output_type": "execute_result"
    }
   ],
   "source": [
    "# Create a pivot table to get the sum of sales based on specific hours of each day\n",
    "# pivot_table = hourly_sales_up.pivot_table(values='c_ticketitem_net_price', index=['create_hour_ordinal', 'create_day'], aggfunc=np.sum)\n",
    "pivot_table = hourly_sales_up.pivot_table(\n",
    "    index=\"create_hour_ordinal\",\n",
    "    columns=\"create_day\",\n",
    "    values=\"c_ticketitem_net_price\",\n",
    "    aggfunc=np.sum,\n",
    ")\n",
    "\n",
    "pivot_table\n"
   ]
  },
  {
   "cell_type": "code",
   "execution_count": 10,
   "metadata": {},
   "outputs": [
    {
     "data": {
      "text/plain": [
       "<matplotlib.axes._subplots.AxesSubplot at 0x1d67e1c4390>"
      ]
     },
     "execution_count": 10,
     "metadata": {},
     "output_type": "execute_result"
    },
    {
     "data": {
      "image/png": "[encoded data removed]",
      "text/plain": [
       "<Figure size 432x288 with 1 Axes>"
      ]
     },
     "metadata": {
      "needs_background": "light"
     },
     "output_type": "display_data"
    }
   ],
   "source": [
    "pivot_table.plot(\n",
    "    kind=\"bar\",\n",
    "    width=0.8,\n",
    "    ylim=(0, 5000),\n",
    "    yticks=[500, 1000, 1500, 2000, 2500, 3000, 3500, 4000, 4500, 5000],\n",
    ")\n"
   ]
  },
  {
   "cell_type": "code",
   "execution_count": 11,
   "metadata": {},
   "outputs": [
    {
     "data": {
      "text/plain": [
       "<matplotlib.axes._subplots.AxesSubplot at 0x1d6005351d0>"
      ]
     },
     "execution_count": 11,
     "metadata": {},
     "output_type": "execute_result"
    },
    {
     "data": {
      "image/png": "[encoded data removed]",
      "text/plain": [
       "<Figure size 432x288 with 1 Axes>"
      ]
     },
     "metadata": {
      "needs_background": "light"
     },
     "output_type": "display_data"
    }
   ],
   "source": [
    "pivot_table.plot(kind=\"bar\", stacked=True, width=0.8)\n",
    "\n"
   ]
  }
 ],
 "metadata": {
  "file_extension": ".py",
  "kernelspec": {
   "display_name": "Python 3",
   "language": "python",
   "name": "python3"
  },
  "language_info": {
   "codemirror_mode": {
    "name": "ipython",
    "version": 3
   },
   "file_extension": ".py",
   "mimetype": "text/x-python",
   "name": "python",
   "nbconvert_exporter": "python",
   "pygments_lexer": "ipython3",
   "version": "3.7.3"
  },
  "mimetype": "text/x-python",
  "name": "python",
  "npconvert_exporter": "python",
  "pygments_lexer": "ipython3",
  "version": 3
 },
 "nbformat": 4,
 "nbformat_minor": 2
}
